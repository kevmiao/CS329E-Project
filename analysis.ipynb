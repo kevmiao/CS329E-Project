{
 "cells": [
  {
   "cell_type": "markdown",
   "metadata": {},
   "source": [
    "## Analysis"
   ]
  },
  {
   "cell_type": "markdown",
   "metadata": {},
   "source": [
    "#### 0. Create a goal for your project from the proposal you submitted. Articulate that goal in a short paragraph.\n",
    "\n",
    "After the proposal submission, our group switched our project focus from EV adoption to lung cancer and the factors associated with lung cancer. \n",
    "\n",
    "Now, the goal of our project is to investigate the potential relationship between air quality and lung cancer incidence, utilizing geographical data on air quality alongside survey data on participants' health behaviors and experiences, including smoking habits, anxiety levels, alcohol consumption, and other relevant factors. By analyzing the spatial distribution of lung cancer cases in relation to air pollution levels and individual health characteristics, we aim to identify potential correlations, risk factors, and geographical patterns that may contribute to the development of lung cancer. This comprehensive analysis will provide valuable insights into the complex interplay between environmental factors, individual behaviors, and lung cancer risk, aiding in the development of targeted interventions and public health strategies for prevention and management."
   ]
  },
  {
   "cell_type": "markdown",
   "metadata": {},
   "source": [
    "## 1. Familiarize yourself with the data sets. Here are questions that I want you to answer:\n",
    "\n",
    "* What is the dataset size (how many rows and columns)?\n",
    "* What are the column names?\n",
    "* Classify each column as - categorical, ordinal, discrete, or continuous.\n",
    "* For categorical data, find the discrete values.\n",
    "* For categorical data, find the distribution of the discrete values. In particular, identify the mode.\n",
    "* For quantitative data (discrete or continuous), find the range, median, mean, and standard deviation. What are the units? Do this for columns where it makes sense. If the column has social security numbers, none of the statistics mentioned is relevant."
   ]
  },
  {
   "cell_type": "code",
   "execution_count": null,
   "metadata": {},
   "outputs": [],
   "source": [
    "import pandas as pd\n",
    "import numpy as np\n",
    "import seaborn as sns"
   ]
  },
  {
   "cell_type": "code",
   "execution_count": null,
   "metadata": {},
   "outputs": [],
   "source": [
    "pd.read_csv"
   ]
  }
 ],
 "metadata": {
  "language_info": {
   "name": "python"
  }
 },
 "nbformat": 4,
 "nbformat_minor": 2
}
